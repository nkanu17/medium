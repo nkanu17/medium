{
  "nbformat": 4,
  "nbformat_minor": 0,
  "metadata": {
    "colab": {
      "provenance": [],
      "authorship_tag": "ABX9TyMO0I8Ws91gi0Hp2kB73FV3",
      "include_colab_link": true
    },
    "kernelspec": {
      "name": "python3",
      "display_name": "Python 3"
    },
    "language_info": {
      "name": "python"
    }
  },
  "cells": [
    {
      "cell_type": "markdown",
      "metadata": {
        "id": "view-in-github",
        "colab_type": "text"
      },
      "source": [
        "<a href=\"https://colab.research.google.com/github/nkanu17/medium_blogs/blob/main/A_Byte_Sized_Comparison_of_TensorFlow_Versions_1_and_2.ipynb\" target=\"_parent\"><img src=\"https://colab.research.google.com/assets/colab-badge.svg\" alt=\"Open In Colab\"/></a>"
      ]
    },
    {
      "cell_type": "markdown",
      "source": [
        "# Example 1\n",
        "How can we perform computations in TensorFlow 1? The following code shows a simple matrix multiplication problem and how it can be executed using TensorFlow 1:"
      ],
      "metadata": {
        "id": "kxBV13BFjCGB"
      }
    },
    {
      "cell_type": "code",
      "source": [
        "import tensorflow as tf\n",
        "\n",
        "# Build the computation graph\n",
        "x = tf.constant([1, 2, 3], name='x')\n",
        "y = tf.constant([4, 5, 6], name='y')\n",
        "z = tf.multiply(x, y, name='z')\n",
        "\n",
        "# Start and execute computation in a session\n",
        "with tf.Session() as sess:\n",
        "    result = sess.run(z)\n",
        "    print(f\"Output: {result}\")\n",
        "# Output: [4 10 18]"
      ],
      "metadata": {
        "id": "jQzOfjGj0BrT"
      },
      "execution_count": null,
      "outputs": []
    },
    {
      "cell_type": "markdown",
      "source": [
        "## Example 1 without sessions"
      ],
      "metadata": {
        "id": "aS7Wwk_-jTzv"
      }
    },
    {
      "cell_type": "code",
      "source": [
        "import tensorflow as tf\n",
        "\n",
        "# Eager Execution is on by default in TensorFlow 2.x\n",
        "x = tf.constant([1, 2, 3])\n",
        "y = tf.constant([4, 5, 6])\n",
        "z = tf.multiply(x, y)\n",
        "# The result is immediately available\n",
        "print(z)\n",
        "# Output: [ 4 10 18]"
      ],
      "metadata": {
        "colab": {
          "base_uri": "https://localhost:8080/"
        },
        "id": "IRrU8M_8jSdC",
        "outputId": "51a902fc-e3f0-4d17-d05f-40c39ac7e65d"
      },
      "execution_count": 6,
      "outputs": [
        {
          "output_type": "stream",
          "name": "stdout",
          "text": [
            "tf.Tensor([ 4 10 18], shape=(3,), dtype=int32)\n"
          ]
        }
      ]
    },
    {
      "cell_type": "markdown",
      "source": [
        "# A simple neural network comparison with TensorFlow Sequential and Functional APIs\n",
        "Let’s walk through how to build a simple text classification model that takes in strings as input and classifies them as positive or negative. The objective here is to observe the differences between using these two APIs; therefore, we are using mock data will be used and not focusing on model building. For more detailed information on building text-based models, please take a look at TensorFlow tutorials or TensorFlow Hub tutorials.\n",
        "\n",
        "## Set-up input data\n",
        "\n",
        "We will use the same input for both sequential and functional API models. The following code describes four sentences that become converted into the format required for a neural network, which involves the tokenization of the sentences."
      ],
      "metadata": {
        "id": "0-Jr986YjfFI"
      }
    },
    {
      "cell_type": "code",
      "source": [
        "import numpy as np\n",
        "import tensorflow as tf\n",
        "from tensorflow.keras.preprocessing.sequence import pad_sequences\n",
        "from tensorflow.keras.preprocessing.text import Tokenizer\n",
        "\n",
        "# Mock input\n",
        "sentences = [\n",
        "    \"I love machine learning a lot\",\n",
        "    \"I really do not like TensorFlow\",\n",
        "    \"Tensorflow is amazing!\",\n",
        "    \"Not having eager execution was frustrating!\",\n",
        "]\n",
        "\n",
        "# Define the labels, 1 for positive and 0 for negative\n",
        "labels = np.array([1, 0, 1, 0])\n",
        "\n",
        "# Tokenize of input\n",
        "max_words = 64\n",
        "tokenizer = Tokenizer(num_words=max_words, oov_token=\"<OOV>\")\n",
        "tokenizer.fit_on_texts(sentences)\n",
        "sentences_as_sequences = tokenizer.texts_to_sequences(sentences)\n",
        "\n",
        "# Pad sequences\n",
        "X_train = pad_sequences(sentences_as_sequences)\n",
        "\n",
        "# Will be used below\n",
        "embedding_size = 32"
      ],
      "metadata": {
        "id": "urIkR9mLjqn5"
      },
      "execution_count": 15,
      "outputs": []
    },
    {
      "cell_type": "markdown",
      "source": [
        "## Model with Sequential API"
      ],
      "metadata": {
        "id": "0Zp4PqZGj3A5"
      }
    },
    {
      "cell_type": "code",
      "source": [
        "model = tf.keras.models.Sequential([\n",
        "    tf.keras.layers.Embedding(embedding_size, 16, input_length=X_train.shape[1]),\n",
        "    tf.keras.layers.GlobalAveragePooling1D(),\n",
        "    tf.keras.layers.Dense(16, activation='relu'),\n",
        "    tf.keras.layers.Dense(1, activation='sigmoid')\n",
        "])\n",
        "\n",
        "# Compile the model\n",
        "model.compile(optimizer='adam', loss='binary_crossentropy', metrics=['accuracy'])\n",
        "\n",
        "# Train the model\n",
        "model.fit(X_train, labels, epochs=10)"
      ],
      "metadata": {
        "id": "6zIlCmp8znd0",
        "colab": {
          "base_uri": "https://localhost:8080/"
        },
        "outputId": "8ec895bf-b366-4366-f535-97a37a58392d"
      },
      "execution_count": 16,
      "outputs": [
        {
          "output_type": "stream",
          "name": "stdout",
          "text": [
            "Epoch 1/10\n",
            "1/1 [==============================] - 1s 1s/step - loss: 0.6940 - accuracy: 0.5000\n",
            "Epoch 2/10\n",
            "1/1 [==============================] - 0s 11ms/step - loss: 0.6918 - accuracy: 0.7500\n",
            "Epoch 3/10\n",
            "1/1 [==============================] - 0s 14ms/step - loss: 0.6897 - accuracy: 0.7500\n",
            "Epoch 4/10\n",
            "1/1 [==============================] - 0s 12ms/step - loss: 0.6879 - accuracy: 1.0000\n",
            "Epoch 5/10\n",
            "1/1 [==============================] - 0s 12ms/step - loss: 0.6862 - accuracy: 1.0000\n",
            "Epoch 6/10\n",
            "1/1 [==============================] - 0s 12ms/step - loss: 0.6846 - accuracy: 1.0000\n",
            "Epoch 7/10\n",
            "1/1 [==============================] - 0s 11ms/step - loss: 0.6829 - accuracy: 1.0000\n",
            "Epoch 8/10\n",
            "1/1 [==============================] - 0s 12ms/step - loss: 0.6813 - accuracy: 1.0000\n",
            "Epoch 9/10\n",
            "1/1 [==============================] - 0s 12ms/step - loss: 0.6799 - accuracy: 1.0000\n",
            "Epoch 10/10\n",
            "1/1 [==============================] - 0s 12ms/step - loss: 0.6784 - accuracy: 1.0000\n"
          ]
        },
        {
          "output_type": "execute_result",
          "data": {
            "text/plain": [
              "<keras.callbacks.History at 0x7f7ec18a4850>"
            ]
          },
          "metadata": {},
          "execution_count": 16
        }
      ]
    },
    {
      "cell_type": "code",
      "source": [
        "model.summary()"
      ],
      "metadata": {
        "colab": {
          "base_uri": "https://localhost:8080/"
        },
        "id": "PF-Bjq12iSrh",
        "outputId": "20517221-831f-4316-825d-2704eba56cd8"
      },
      "execution_count": 17,
      "outputs": [
        {
          "output_type": "stream",
          "name": "stdout",
          "text": [
            "Model: \"sequential_4\"\n",
            "_________________________________________________________________\n",
            " Layer (type)                Output Shape              Param #   \n",
            "=================================================================\n",
            " embedding_6 (Embedding)     (None, 6, 16)             512       \n",
            "                                                                 \n",
            " global_average_pooling1d_6   (None, 16)               0         \n",
            " (GlobalAveragePooling1D)                                        \n",
            "                                                                 \n",
            " dense_12 (Dense)            (None, 16)                272       \n",
            "                                                                 \n",
            " dense_13 (Dense)            (None, 1)                 17        \n",
            "                                                                 \n",
            "=================================================================\n",
            "Total params: 801\n",
            "Trainable params: 801\n",
            "Non-trainable params: 0\n",
            "_________________________________________________________________\n"
          ]
        }
      ]
    },
    {
      "cell_type": "markdown",
      "source": [
        "## Model with Functional API"
      ],
      "metadata": {
        "id": "mjt94jwLj6sD"
      }
    },
    {
      "cell_type": "code",
      "source": [
        "# Use the functional API to create the model\n",
        "inputs = tf.keras.layers.Input(shape=(X_train.shape[1],))\n",
        "embedding = tf.keras.layers.Embedding(embedding_size, 16, input_length=X_train.shape[1])(inputs)\n",
        "pooling = tf.keras.layers.GlobalAveragePooling1D()(embedding)\n",
        "dense1 = tf.keras.layers.Dense(16, activation='relu')(pooling)\n",
        "outputs = tf.keras.layers.Dense(1, activation='sigmoid')(dense1)\n",
        "model = tf.keras.Model(inputs=inputs, outputs=outputs)\n",
        "\n",
        "# Compile the model\n",
        "model.compile(optimizer='adam', loss='binary_crossentropy', metrics=['accuracy'])\n",
        "\n",
        "# Train the model\n",
        "model.fit(X_train, labels, epochs=10)"
      ],
      "metadata": {
        "colab": {
          "base_uri": "https://localhost:8080/"
        },
        "id": "U48Ba_7qj2VE",
        "outputId": "0592ec54-8f60-4be3-a4fb-8707cba21243"
      },
      "execution_count": 18,
      "outputs": [
        {
          "output_type": "stream",
          "name": "stdout",
          "text": [
            "Epoch 1/10\n",
            "1/1 [==============================] - 1s 1s/step - loss: 0.6954 - accuracy: 0.5000\n",
            "Epoch 2/10\n",
            "1/1 [==============================] - 0s 12ms/step - loss: 0.6937 - accuracy: 0.5000\n",
            "Epoch 3/10\n",
            "1/1 [==============================] - 0s 10ms/step - loss: 0.6920 - accuracy: 0.5000\n",
            "Epoch 4/10\n",
            "1/1 [==============================] - 0s 11ms/step - loss: 0.6904 - accuracy: 0.5000\n",
            "Epoch 5/10\n",
            "1/1 [==============================] - 0s 13ms/step - loss: 0.6889 - accuracy: 0.7500\n",
            "Epoch 6/10\n",
            "1/1 [==============================] - 0s 10ms/step - loss: 0.6873 - accuracy: 0.7500\n",
            "Epoch 7/10\n",
            "1/1 [==============================] - 0s 10ms/step - loss: 0.6859 - accuracy: 1.0000\n",
            "Epoch 8/10\n",
            "1/1 [==============================] - 0s 10ms/step - loss: 0.6844 - accuracy: 1.0000\n",
            "Epoch 9/10\n",
            "1/1 [==============================] - 0s 12ms/step - loss: 0.6830 - accuracy: 1.0000\n",
            "Epoch 10/10\n",
            "1/1 [==============================] - 0s 9ms/step - loss: 0.6815 - accuracy: 1.0000\n"
          ]
        },
        {
          "output_type": "execute_result",
          "data": {
            "text/plain": [
              "<keras.callbacks.History at 0x7f7e3006c2b0>"
            ]
          },
          "metadata": {},
          "execution_count": 18
        }
      ]
    },
    {
      "cell_type": "code",
      "source": [
        "model.summary()"
      ],
      "metadata": {
        "colab": {
          "base_uri": "https://localhost:8080/"
        },
        "id": "gNLVVuxskI1A",
        "outputId": "7d39dcf4-2b86-417a-e939-d4f50f0f2ec4"
      },
      "execution_count": 19,
      "outputs": [
        {
          "output_type": "stream",
          "name": "stdout",
          "text": [
            "Model: \"model_2\"\n",
            "_________________________________________________________________\n",
            " Layer (type)                Output Shape              Param #   \n",
            "=================================================================\n",
            " input_3 (InputLayer)        [(None, 6)]               0         \n",
            "                                                                 \n",
            " embedding_7 (Embedding)     (None, 6, 16)             512       \n",
            "                                                                 \n",
            " global_average_pooling1d_7   (None, 16)               0         \n",
            " (GlobalAveragePooling1D)                                        \n",
            "                                                                 \n",
            " dense_14 (Dense)            (None, 16)                272       \n",
            "                                                                 \n",
            " dense_15 (Dense)            (None, 1)                 17        \n",
            "                                                                 \n",
            "=================================================================\n",
            "Total params: 801\n",
            "Trainable params: 801\n",
            "Non-trainable params: 0\n",
            "_________________________________________________________________\n"
          ]
        }
      ]
    },
    {
      "cell_type": "markdown",
      "source": [
        "## Plot the graph"
      ],
      "metadata": {
        "id": "Z4ghD8pKkL77"
      }
    },
    {
      "cell_type": "code",
      "source": [
        "tf.keras.utils.plot_model(model, 'model.png', show_shapes=True)"
      ],
      "metadata": {
        "colab": {
          "base_uri": "https://localhost:8080/",
          "height": 533
        },
        "id": "thcNsZ5JvQmw",
        "outputId": "b5dc05bc-2b05-4e72-e7f8-9a6f4dd0c13a"
      },
      "execution_count": null,
      "outputs": [
        {
          "output_type": "execute_result",
          "data": {
            "image/png": "[encoded data removed]",
            "text/plain": [
              "<IPython.core.display.Image object>"
            ]
          },
          "metadata": {},
          "execution_count": 2
        }
      ]
    },
    {
      "cell_type": "code",
      "source": [],
      "metadata": {
        "id": "4nfZpyi-oDbR"
      },
      "execution_count": null,
      "outputs": []
    }
  ]
}